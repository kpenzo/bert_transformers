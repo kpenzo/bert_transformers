{
  "cells": [
    {
      "cell_type": "markdown",
      "metadata": {
        "id": "view-in-github",
        "colab_type": "text"
      },
      "source": [
        "<a href=\"https://colab.research.google.com/github/kpenzo/bert_transformers/blob/main/cve_bert_TRANSFORMERS.ipynb\" target=\"_parent\"><img src=\"https://colab.research.google.com/assets/colab-badge.svg\" alt=\"Open In Colab\"/></a>"
      ]
    },
    {
      "cell_type": "markdown",
      "metadata": {
        "id": "Eer6LjpjxJbZ"
      },
      "source": [
        "### Dataset: https://www.kaggle.com/datasets/andrewkronser/cve-common-vulnerabilities-and-exposures\n",
        "\n",
        "## KMeans: https://realpython.com/k-means-clustering-python/"
      ]
    },
    {
      "cell_type": "code",
      "execution_count": null,
      "metadata": {
        "id": "Ffh1lJjkwNg9"
      },
      "outputs": [],
      "source": [
        "!nvidia-smi"
      ]
    },
    {
      "cell_type": "code",
      "execution_count": null,
      "metadata": {
        "id": "YRhh1GtimdLZ"
      },
      "outputs": [],
      "source": [
        "#from google.colab import drive\n",
        "#drive.mount('/content/drive')"
      ]
    },
    {
      "cell_type": "code",
      "execution_count": null,
      "metadata": {
        "id": "Dtmx6eIImibk"
      },
      "outputs": [],
      "source": [
        "!ls \"/content/sample_data/archive.zip\"\n",
        "!unzip \"/content/sample_data/archive.zip\""
      ]
    },
    {
      "cell_type": "code",
      "source": [
        "!pip show accelerate\n",
        "!pip install accelerate -U"
      ],
      "metadata": {
        "id": "PnqqC_ZjXD_s"
      },
      "execution_count": null,
      "outputs": []
    },
    {
      "cell_type": "code",
      "execution_count": 4,
      "metadata": {
        "id": "Gw-RMN0tm1Bq"
      },
      "outputs": [],
      "source": [
        "import numpy as np\n",
        "import pandas as pd"
      ]
    },
    {
      "cell_type": "code",
      "execution_count": 5,
      "metadata": {
        "id": "a_x0RCMannPs"
      },
      "outputs": [],
      "source": [
        "cve = pd.read_csv('/content/cve.csv')"
      ]
    },
    {
      "cell_type": "code",
      "source": [
        "!pip show transformers"
      ],
      "metadata": {
        "id": "qWlWUmJAxBS-"
      },
      "execution_count": null,
      "outputs": []
    },
    {
      "cell_type": "code",
      "source": [
        "!pip install transformers datasets evaluate"
      ],
      "metadata": {
        "id": "BIa8sidpxZyY"
      },
      "execution_count": null,
      "outputs": []
    },
    {
      "cell_type": "code",
      "source": [
        "from transformers import pipeline"
      ],
      "metadata": {
        "id": "zgNSRu6fxiAc"
      },
      "execution_count": 8,
      "outputs": []
    },
    {
      "cell_type": "code",
      "source": [
        "from transformers import AutoTokenizer\n",
        "tokenizer = AutoTokenizer.from_pretrained(\"distilbert-base-uncased\")"
      ],
      "metadata": {
        "id": "KFPRiqVd0BZh"
      },
      "execution_count": null,
      "outputs": []
    },
    {
      "cell_type": "code",
      "source": [
        "def preprocess_function(example):\n",
        "    token = tokenizer(example, truncation=True)\n",
        "    return token"
      ],
      "metadata": {
        "id": "gVhCdgvT0ec8"
      },
      "execution_count": 10,
      "outputs": []
    },
    {
      "cell_type": "code",
      "source": [
        "X = cve['summary'].tolist()\n",
        "y = cve['cwe_name'].tolist()"
      ],
      "metadata": {
        "id": "LVrz69Gp0_T2"
      },
      "execution_count": 11,
      "outputs": []
    },
    {
      "cell_type": "code",
      "source": [
        "from sklearn.preprocessing import LabelEncoder\n",
        "label_encoder = LabelEncoder()"
      ],
      "metadata": {
        "id": "tHB0i8vHZ8cl"
      },
      "execution_count": 12,
      "outputs": []
    },
    {
      "cell_type": "code",
      "source": [
        "cve['cwe_name_code'] = label_encoder.fit_transform(cve['cwe_name'])"
      ],
      "metadata": {
        "id": "DMsxx10HZ-dp"
      },
      "execution_count": 13,
      "outputs": []
    },
    {
      "cell_type": "code",
      "source": [
        "y_numeric = cve['cwe_name_code'].tolist()"
      ],
      "metadata": {
        "id": "y2RJ6d9yc_SH"
      },
      "execution_count": 14,
      "outputs": []
    },
    {
      "cell_type": "code",
      "source": [
        "tokenized_cve = list(map(preprocess_function, X))"
      ],
      "metadata": {
        "id": "BuxC2bfh1dqF"
      },
      "execution_count": 15,
      "outputs": []
    },
    {
      "cell_type": "code",
      "source": [
        "print(tokenized_cve[0].keys())\n",
        "\n",
        "tokenized_cve_input_ids_as_list = []\n",
        "tokenized_cve_attention_mask_as_list = []\n",
        "tokenized_cve_text_as_list = []\n",
        "tokenized_cve_label_as_list = []\n",
        "\n",
        "for i in range(len(tokenized_cve)):\n",
        "  tokenized_cve[i]['text'] = X[i]\n",
        "  tokenized_cve[i]['label'] = y_numeric[i]\n",
        "\n",
        "  tokenized_cve_input_ids_as_list.append(tokenized_cve[i]['input_ids'])\n",
        "  tokenized_cve_attention_mask_as_list.append(tokenized_cve[i]['attention_mask'])\n",
        "  tokenized_cve_text_as_list.append(tokenized_cve[i]['text'])\n",
        "  tokenized_cve_label_as_list.append(tokenized_cve[i]['label'])"
      ],
      "metadata": {
        "id": "K57OdEE86Dvj"
      },
      "execution_count": null,
      "outputs": []
    },
    {
      "cell_type": "code",
      "source": [
        "max(y_numeric)"
      ],
      "metadata": {
        "id": "vt4nGVzyhINI"
      },
      "execution_count": null,
      "outputs": []
    },
    {
      "cell_type": "code",
      "source": [
        "d = {\n",
        "  'text': tokenized_cve_text_as_list,\n",
        "  'label': tokenized_cve_label_as_list,\n",
        "  'input_ids': tokenized_cve_input_ids_as_list,\n",
        "  'attention_mask': tokenized_cve_attention_mask_as_list,\n",
        "}\n",
        "df = pd.DataFrame(data=d)\n",
        "\n",
        "from datasets import Dataset\n",
        "import pyarrow as pa\n",
        "\n",
        "pa_arrow = pa.Table.from_pandas(df)\n",
        "tokenized_cve_ds = Dataset(pa_arrow)\n",
        "\n",
        "print(tokenized_cve_ds)"
      ],
      "metadata": {
        "id": "7ApWia07X5sq"
      },
      "execution_count": null,
      "outputs": []
    },
    {
      "cell_type": "code",
      "source": [
        "from transformers import DataCollatorWithPadding\n",
        "data_collator = DataCollatorWithPadding(tokenizer=tokenizer)"
      ],
      "metadata": {
        "id": "_vzySnRY18hG"
      },
      "execution_count": 19,
      "outputs": []
    },
    {
      "cell_type": "code",
      "source": [
        "import evaluate\n",
        "accuracy = evaluate.load(\"accuracy\")"
      ],
      "metadata": {
        "id": "F24JrMF93wLD"
      },
      "execution_count": null,
      "outputs": []
    },
    {
      "cell_type": "code",
      "source": [
        "import numpy as np\n",
        "\n",
        "def compute_metrics(eval_pred):\n",
        "    predictions, labels = eval_pred\n",
        "    predictions = np.argmax(predictions, axis=1)\n",
        "    return accuracy.compute(predictions=predictions, references=labels)"
      ],
      "metadata": {
        "id": "MO2UiqEa3y-y"
      },
      "execution_count": 21,
      "outputs": []
    },
    {
      "cell_type": "code",
      "source": [
        "'''\n",
        "id2label = {\n",
        "    0: \"NEGATIVE\",\n",
        "    1: \"POSITIVE\"\n",
        "}\n",
        "\n",
        "label2id = {\n",
        "    \"NEGATIVE\": 0,\n",
        "    \"POSITIVE\": 1\n",
        "}\n",
        "'''\n",
        "id2label = {}\n",
        "label2id = {}\n",
        "\n",
        "cwe_name_list = cve['cwe_name'].tolist()\n",
        "cwe_name_code_list = cve['cwe_name_code'].tolist()\n",
        "\n",
        "for x in range(len(cwe_name_list)):\n",
        "  id2label[cwe_name_code_list[x]] = cwe_name_list[x]\n",
        "  label2id[cwe_name_list[x]] = cwe_name_code_list[x]"
      ],
      "metadata": {
        "id": "3on8shz935Jb"
      },
      "execution_count": 22,
      "outputs": []
    },
    {
      "cell_type": "code",
      "source": [
        "from transformers import AutoModelForSequenceClassification, TrainingArguments, Trainer\n",
        "\n",
        "model = AutoModelForSequenceClassification.from_pretrained(\n",
        "    \"distilbert-base-uncased\",\n",
        "    num_labels=170,\n",
        "    id2label=id2label,\n",
        "    label2id=label2id\n",
        ")"
      ],
      "metadata": {
        "id": "4w-bAT844B93"
      },
      "execution_count": null,
      "outputs": []
    },
    {
      "cell_type": "code",
      "source": [
        "!pip install --upgrade transformers"
      ],
      "metadata": {
        "id": "WPkHfR0fhjG3"
      },
      "execution_count": null,
      "outputs": []
    },
    {
      "cell_type": "code",
      "source": [
        "from transformers import TrainingArguments"
      ],
      "metadata": {
        "id": "ajYZv2KkqOoP"
      },
      "execution_count": 39,
      "outputs": []
    },
    {
      "cell_type": "code",
      "source": [
        "training_args = TrainingArguments(\n",
        "    output_dir=\"my_awesome_model\",\n",
        "    learning_rate=2e-5,\n",
        "    per_device_train_batch_size=16,\n",
        "    per_device_eval_batch_size=16,\n",
        "    num_train_epochs=2,\n",
        "    weight_decay=0.01,\n",
        "    evaluation_strategy=\"steps\",  #epoch\n",
        "    save_strategy=\"steps\",  #epoch\n",
        "    save_steps=500, #\n",
        "    eval_steps=500, #\n",
        "    logging_steps=100, #\n",
        "    do_eval=True,\n",
        "    save_total_limit=1,  #,\n",
        "    load_best_model_at_end=True,\n",
        "    push_to_hub=False,\n",
        ")\n",
        "\n"
      ],
      "metadata": {
        "id": "d4vX7GPx4aVu"
      },
      "execution_count": null,
      "outputs": []
    },
    {
      "cell_type": "code",
      "source": [
        "trainer = Trainer(\n",
        "    model=model,\n",
        "    args=training_args,\n",
        "    train_dataset=tokenized_cve_ds,\n",
        "    eval_dataset=tokenized_cve_ds,\n",
        "    tokenizer=tokenizer,\n",
        "    data_collator=data_collator,\n",
        "    compute_metrics=compute_metrics,\n",
        ")"
      ],
      "metadata": {
        "id": "dF4Fky5t4hL3"
      },
      "execution_count": null,
      "outputs": []
    },
    {
      "cell_type": "code",
      "source": [
        "trainer.train()"
      ],
      "metadata": {
        "id": "Jkd5ewyZ2j-o"
      },
      "execution_count": null,
      "outputs": []
    },
    {
      "cell_type": "code",
      "source": [
        "print(type(model))\n",
        "print(type(tokenizer))"
      ],
      "metadata": {
        "id": "nINnGDTTr9Sd"
      },
      "execution_count": null,
      "outputs": []
    },
    {
      "cell_type": "code",
      "source": [
        "model.save_pretrained('/content/sample_data/model_trained_04_08')\n",
        "tokenizer.save_pretrained('/content/sample_data/tokenizer_trained_04_08')"
      ],
      "metadata": {
        "id": "_pLclSR2r_kR"
      },
      "execution_count": null,
      "outputs": []
    },
    {
      "cell_type": "code",
      "source": [
        "tokenizer_2 = AutoTokenizer.from_pretrained('/content/sample_data/tokenizer_trained_04_08')\n",
        "model_2 = AutoModelForSequenceClassification.from_pretrained('/content/sample_data/model_trained_04_08')"
      ],
      "metadata": {
        "id": "ZPr6QTABsO19"
      },
      "execution_count": null,
      "outputs": []
    },
    {
      "cell_type": "code",
      "source": [
        "print(type(model_2))\n",
        "print(type(tokenizer_2))"
      ],
      "metadata": {
        "id": "lGMSOeOqsh-b"
      },
      "execution_count": null,
      "outputs": []
    },
    {
      "cell_type": "code",
      "source": [
        "# inference\n",
        "text = \"'Zoom for Windows clients before version 5.13.3, Zoom Rooms for Windows clients before version 5.13.5 and Zoom VDI for Windows clients before 5.13.1 contain an information disclosure vulnerability. A recent update to the Microsoft Edge WebView2 runtime used by the affected Zoom clients, transmitted text to Microsoft&#8217;s online Spellcheck service instead of the local Windows Spellcheck. Updating Zoom remediates this vulnerability by disabling the feature. Updating Microsoft Edge WebView2 Runtime to at least version 109.0.1481.0 and restarting Zoom remediates this vulnerability by updating Microsoft&#8217;s telemetry behavior.\""
      ],
      "metadata": {
        "id": "qonLvlXsCe8S"
      },
      "execution_count": null,
      "outputs": []
    },
    {
      "cell_type": "code",
      "source": [
        "inputs = tokenizer(text, return_tensors=\"pt\")"
      ],
      "metadata": {
        "id": "iyMUmFmOFHZD"
      },
      "execution_count": null,
      "outputs": []
    },
    {
      "cell_type": "code",
      "source": [
        "inputs.to('cuda')"
      ],
      "metadata": {
        "id": "TeJ8Tt4MGImU"
      },
      "execution_count": null,
      "outputs": []
    },
    {
      "cell_type": "code",
      "source": [
        "import torch\n",
        "with torch.no_grad():\n",
        "    logits = model(**inputs).logits"
      ],
      "metadata": {
        "id": "BMv_X13WFHjA"
      },
      "execution_count": null,
      "outputs": []
    },
    {
      "cell_type": "code",
      "source": [
        "print(logits)"
      ],
      "metadata": {
        "id": "x-toTwYfzyef"
      },
      "execution_count": null,
      "outputs": []
    },
    {
      "cell_type": "code",
      "source": [
        "predicted_class_id = logits.argmax().item()\n",
        "model.config.id2label[predicted_class_id]"
      ],
      "metadata": {
        "id": "h3EOhqipFosX"
      },
      "execution_count": null,
      "outputs": []
    },
    {
      "cell_type": "code",
      "source": [
        "inputs = tokenizer_2(text, return_tensors=\"pt\")"
      ],
      "metadata": {
        "id": "nRxr7MH2Fo4r"
      },
      "execution_count": null,
      "outputs": []
    },
    {
      "cell_type": "code",
      "source": [
        "inputs.to('cuda')\n",
        "model_2.to('cuda')"
      ],
      "metadata": {
        "id": "P2z-xluuFo8i"
      },
      "execution_count": null,
      "outputs": []
    },
    {
      "cell_type": "code",
      "source": [
        "import torch\n",
        "with torch.no_grad():\n",
        "    logits = model_2(**inputs).logits"
      ],
      "metadata": {
        "id": "84v7MPbKsr1d"
      },
      "execution_count": null,
      "outputs": []
    },
    {
      "cell_type": "code",
      "source": [
        "predicted_class_id = logits.argmax().item()\n",
        "model.config.id2label[predicted_class_id]"
      ],
      "metadata": {
        "id": "nmxU6COfsr-6"
      },
      "execution_count": null,
      "outputs": []
    },
    {
      "cell_type": "code",
      "source": [
        "!wmic"
      ],
      "metadata": {
        "id": "5P4Rp_vu9nW9"
      },
      "execution_count": null,
      "outputs": []
    },
    {
      "cell_type": "code",
      "source": [
        "!uname -r\n",
        "!lsb_release -a"
      ],
      "metadata": {
        "id": "ySCP3LUo9pez"
      },
      "execution_count": null,
      "outputs": []
    }
  ],
  "metadata": {
    "accelerator": "GPU",
    "colab": {
      "provenance": [],
      "include_colab_link": true
    },
    "kernelspec": {
      "display_name": "Python 3",
      "name": "python3"
    },
    "language_info": {
      "name": "python"
    }
  },
  "nbformat": 4,
  "nbformat_minor": 0
}